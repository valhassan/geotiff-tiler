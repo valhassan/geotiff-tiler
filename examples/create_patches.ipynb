{
 "cells": [
  {
   "cell_type": "code",
   "execution_count": 1,
   "metadata": {},
   "outputs": [],
   "source": [
    "from geotiff_tiler.tiler import Tiler"
   ]
  },
  {
   "cell_type": "code",
   "execution_count": 2,
   "metadata": {},
   "outputs": [],
   "source": [
    "data = [{\"image\": \"./data/image.tif\",\n",
    "         \"label\": \"./data/label.tif\",\n",
    "         \"metadata\": {\"collection\": \"worldview-3\", \"gsd\": 0.46}}]\n",
    "    "
   ]
  },
  {
   "cell_type": "code",
   "execution_count": 3,
   "metadata": {},
   "outputs": [],
   "source": [
    "tiler = Tiler(input_dict=data,\n",
    "              patch_size=(112, 112),\n",
    "              attr_field=[\"class\", \"Quatreclasses\"],\n",
    "              attr_values=[1, 2, 3, 4],\n",
    "              stride=112,\n",
    "              discard_empty=True,\n",
    "              label_threshold=0.1,\n",
    "              output_dir='./data/zarr_patches')"
   ]
  },
  {
   "cell_type": "code",
   "execution_count": 4,
   "metadata": {},
   "outputs": [
    {
     "name": "stderr",
     "output_type": "stream",
     "text": [
      "Processing input pairs:   0%|          | 0/1 [00:00<?, ?it/s]"
     ]
    },
    {
     "name": "stdout",
     "output_type": "stream",
     "text": [
      "[\u001b[36m2025-04-09 15:42:01,680\u001b[0m][\u001b[34mgeotiff_tiler.tiler\u001b[0m][\u001b[32mINFO\u001b[0m] - Processing pair with Overlap percentage: 100.00%\u001b[0m\n",
      "[\u001b[36m2025-04-09 15:42:01,700\u001b[0m][\u001b[34mgeotiff_tiler.tiler\u001b[0m][\u001b[32mINFO\u001b[0m] - Tiling 512 x 512 image with patch size (112, 112) and stride 112\u001b[0m\n",
      "[\u001b[36m2025-04-09 15:42:01,706\u001b[0m][\u001b[34mgeotiff_tiler.tiler\u001b[0m][\u001b[32mINFO\u001b[0m] - Extracted 25 patches\u001b[0m\n",
      "[\u001b[36m2025-04-09 15:42:01,807\u001b[0m][\u001b[34mgeotiff_tiler.utils.io\u001b[0m][\u001b[32mINFO\u001b[0m] - Saved 25 patches to data/zarr_patches/000_image/image.zarr\u001b[0m\n"
     ]
    },
    {
     "name": "stderr",
     "output_type": "stream",
     "text": [
      "Processing input pairs: 100%|██████████| 1/1 [00:00<00:00,  1.73it/s]"
     ]
    },
    {
     "name": "stdout",
     "output_type": "stream",
     "text": [
      "[\u001b[36m2025-04-09 15:42:02,213\u001b[0m][\u001b[34mgeotiff_tiler.tiler\u001b[0m][\u001b[32mINFO\u001b[0m] - Tiling complete\u001b[0m\n"
     ]
    },
    {
     "name": "stderr",
     "output_type": "stream",
     "text": [
      "\n"
     ]
    }
   ],
   "source": [
    "tiler.create_tiles()"
   ]
  }
 ],
 "metadata": {
  "kernelspec": {
   "display_name": "geo-inference_test",
   "language": "python",
   "name": "python3"
  },
  "language_info": {
   "codemirror_mode": {
    "name": "ipython",
    "version": 3
   },
   "file_extension": ".py",
   "mimetype": "text/x-python",
   "name": "python",
   "nbconvert_exporter": "python",
   "pygments_lexer": "ipython3",
   "version": "3.11.5"
  }
 },
 "nbformat": 4,
 "nbformat_minor": 2
}
